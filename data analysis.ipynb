{
 "cells": [
  {
   "cell_type": "code",
   "execution_count": 2,
   "id": "0ac9c5b7-ccf4-416e-bea6-03bc031d43f7",
   "metadata": {},
   "outputs": [],
   "source": [
    "import pandas as pd"
   ]
  },
  {
   "cell_type": "code",
   "execution_count": 2,
   "id": "5eb98e11-c4da-46fa-9799-2de2ed7ca9d4",
   "metadata": {},
   "outputs": [],
   "source": [
    "# Load the dataset\n",
    "df = pd.read_csv('books.csv')"
   ]
  },
  {
   "cell_type": "code",
   "execution_count": 3,
   "id": "3bc440e5-d797-4122-9d24-68098f2b7584",
   "metadata": {},
   "outputs": [
    {
     "name": "stdout",
     "output_type": "stream",
     "text": [
      "title             0\n",
      "average_rating    0\n",
      "dtype: int64\n"
     ]
    }
   ],
   "source": [
    "# Check for missing values in crucial columns\n",
    "print(df[['title', 'average_rating']].isnull().sum())"
   ]
  },
  {
   "cell_type": "code",
   "execution_count": 1,
   "id": "d4f3b3d0-30e8-4e78-9381-008915a86422",
   "metadata": {},
   "outputs": [
    {
     "ename": "NameError",
     "evalue": "name 'df' is not defined",
     "output_type": "error",
     "traceback": [
      "\u001b[1;31m---------------------------------------------------------------------------\u001b[0m",
      "\u001b[1;31mNameError\u001b[0m                                 Traceback (most recent call last)",
      "Cell \u001b[1;32mIn[1], line 2\u001b[0m\n\u001b[0;32m      1\u001b[0m \u001b[38;5;66;03m# Calculate the mean of average_rating and fill missing values\u001b[39;00m\n\u001b[1;32m----> 2\u001b[0m average_rating_mean \u001b[38;5;241m=\u001b[39m \u001b[43mdf\u001b[49m[\u001b[38;5;124m'\u001b[39m\u001b[38;5;124maverage_rating\u001b[39m\u001b[38;5;124m'\u001b[39m]\u001b[38;5;241m.\u001b[39mmean()\n\u001b[0;32m      3\u001b[0m df[\u001b[38;5;124m'\u001b[39m\u001b[38;5;124maverage_rating\u001b[39m\u001b[38;5;124m'\u001b[39m] \u001b[38;5;241m=\u001b[39m df[\u001b[38;5;124m'\u001b[39m\u001b[38;5;124maverage_rating\u001b[39m\u001b[38;5;124m'\u001b[39m]\u001b[38;5;241m.\u001b[39mfillna(average_rating_mean)\n\u001b[0;32m      4\u001b[0m \u001b[38;5;28mprint\u001b[39m()\n",
      "\u001b[1;31mNameError\u001b[0m: name 'df' is not defined"
     ]
    }
   ],
   "source": [
    "# Calculate the mean of average_rating and fill missing values\n",
    "average_rating_mean = df['average_rating'].mean()\n",
    "df['average_rating'] = df['average_rating'].fillna(average_rating_mean)\n",
    "print()"
   ]
  },
  {
   "cell_type": "code",
   "execution_count": 5,
   "id": "3642902e-50cc-4a74-bd60-a84347f40346",
   "metadata": {},
   "outputs": [],
   "source": [
    "# Drop rows with missing values\n",
    "df.dropna(inplace=True)"
   ]
  },
  {
   "cell_type": "code",
   "execution_count": 6,
   "id": "240a3c4a-e078-43bd-a6cd-c77025707a67",
   "metadata": {},
   "outputs": [],
   "source": [
    "# Focus your analysis on the Harry Potter book series.\n",
    "harry_potter_books = df[df['title'].str.contains(\"Harry Potter\", na=False)]"
   ]
  },
  {
   "cell_type": "code",
   "execution_count": 7,
   "id": "5a0b1173-3d5e-4eaa-a0d1-fda9aa53a3e9",
   "metadata": {},
   "outputs": [
    {
     "name": "stdout",
     "output_type": "stream",
     "text": [
      "The most popular Harry Potter book is: Harry Potter and the Sorcerer's Stone (Harry Potter, #1) with 4800065 ratings.\n"
     ]
    }
   ],
   "source": [
    "#Find the most selling books within the Harry Potter series.\n",
    "most_selling_hp = harry_potter_books.loc[harry_potter_books['work_ratings_count'].idxmax()]\n",
    "print(f\"The most popular Harry Potter book is: {most_selling_hp['title']} with {most_selling_hp['work_ratings_count']} ratings.\")"
   ]
  },
  {
   "cell_type": "code",
   "execution_count": 8,
   "id": "1f8ca0fb-4799-4477-a471-5f1e62ce968a",
   "metadata": {},
   "outputs": [
    {
     "name": "stdout",
     "output_type": "stream",
     "text": [
      "The average rating of the Harry Potter books is: 4.49\n"
     ]
    }
   ],
   "source": [
    "# Calculate the average rating\n",
    "average_rating = harry_potter_books['average_rating'].mean()\n",
    "print(f\"The average rating of the Harry Potter books is: {average_rating:.2f}\")"
   ]
  }
 ],
 "metadata": {
  "kernelspec": {
   "display_name": "Python 3 (ipykernel)",
   "language": "python",
   "name": "python3"
  },
  "language_info": {
   "codemirror_mode": {
    "name": "ipython",
    "version": 3
   },
   "file_extension": ".py",
   "mimetype": "text/x-python",
   "name": "python",
   "nbconvert_exporter": "python",
   "pygments_lexer": "ipython3",
   "version": "3.12.0"
  }
 },
 "nbformat": 4,
 "nbformat_minor": 5
}
